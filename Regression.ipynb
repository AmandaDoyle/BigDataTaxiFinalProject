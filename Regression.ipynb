{
 "cells": [
  {
   "cell_type": "code",
   "execution_count": 1,
   "metadata": {
    "collapsed": false
   },
   "outputs": [],
   "source": [
    "import pandas as pd \n",
    "import numpy as np \n",
    "pd.set_option('display.mpl_style', 'default')\n",
    "import matplotlib.pylab as plt\n",
    "%matplotlib inline"
   ]
  },
  {
   "cell_type": "markdown",
   "metadata": {},
   "source": [
    "#####load drop off data"
   ]
  },
  {
   "cell_type": "code",
   "execution_count": 122,
   "metadata": {
    "collapsed": false
   },
   "outputs": [],
   "source": [
    "df_evening = pd.read_csv(\"eveningdropoffschange.csv\")\n",
    "df_evening.columns = ['intersection', '2011', '2012', '2013']"
   ]
  },
  {
   "cell_type": "code",
   "execution_count": 123,
   "metadata": {
    "collapsed": false
   },
   "outputs": [],
   "source": [
    "df_evening = pd.read_json(\"EveningDropoffs.json\")\n",
    "#df_evening = df_evening.transpose()"
   ]
  },
  {
   "cell_type": "code",
   "execution_count": null,
   "metadata": {
    "collapsed": true
   },
   "outputs": [],
   "source": []
  },
  {
   "cell_type": "code",
   "execution_count": 117,
   "metadata": {
    "collapsed": false
   },
   "outputs": [],
   "source": [
    "#df_evening = df_evening.transpose()\n",
    "\n",
    "mean2010 = df_evening[2010.0].mean()\n",
    "mean2011 = df_evening[2011.0].mean()\n",
    "mean2012 = df_evening[2012.0].mean() \n",
    "mean2013 = df_evening[2013.0].mean() \n",
    "\n",
    "std2010 = df_evening[2010.0].std()\n",
    "std2011 = df_evening[2011.0].std()\n",
    "std2012 = df_evening[2012.0].std()\n",
    "std2013 = df_evening[2013.0].std() "
   ]
  },
  {
   "cell_type": "code",
   "execution_count": 119,
   "metadata": {
    "collapsed": false
   },
   "outputs": [],
   "source": [
    "df_evening[2010.0] = (df_evening[2010.0] - mean2010)/std2010\n",
    "df_evening[2011.0] = (df_evening[2011.0] - mean2011)/std2011\n",
    "df_evening[2012.0] = (df_evening[2012.0] - mean2012)/std2012\n",
    "df_evening[2013.0] = (df_evening[2013.0] - mean2013)/std2013"
   ]
  },
  {
   "cell_type": "code",
   "execution_count": 120,
   "metadata": {
    "collapsed": false
   },
   "outputs": [
    {
     "data": {
      "text/html": [
       "<div style=\"max-height:1000px;max-width:1500px;overflow:auto;\">\n",
       "<table border=\"1\" class=\"dataframe\">\n",
       "  <thead>\n",
       "    <tr style=\"text-align: right;\">\n",
       "      <th></th>\n",
       "      <th>2010.0</th>\n",
       "      <th>2011.0</th>\n",
       "      <th>2012.0</th>\n",
       "      <th>2013.0</th>\n",
       "    </tr>\n",
       "  </thead>\n",
       "  <tbody>\n",
       "    <tr>\n",
       "      <th>0   </th>\n",
       "      <td>-0.220139</td>\n",
       "      <td>-0.223371</td>\n",
       "      <td>-0.232488</td>\n",
       "      <td>-0.233171</td>\n",
       "    </tr>\n",
       "    <tr>\n",
       "      <th>1   </th>\n",
       "      <td>-0.148842</td>\n",
       "      <td>-0.146810</td>\n",
       "      <td>-0.139962</td>\n",
       "      <td>-0.129292</td>\n",
       "    </tr>\n",
       "    <tr>\n",
       "      <th>10  </th>\n",
       "      <td>-0.216427</td>\n",
       "      <td>-0.221913</td>\n",
       "      <td>-0.229343</td>\n",
       "      <td>-0.231798</td>\n",
       "    </tr>\n",
       "    <tr>\n",
       "      <th>100 </th>\n",
       "      <td>-0.219883</td>\n",
       "      <td>-0.223371</td>\n",
       "      <td>-0.233213</td>\n",
       "      <td>-0.233296</td>\n",
       "    </tr>\n",
       "    <tr>\n",
       "      <th>1000</th>\n",
       "      <td>-0.220267</td>\n",
       "      <td>-0.222763</td>\n",
       "      <td>-0.233334</td>\n",
       "      <td>-0.234170</td>\n",
       "    </tr>\n",
       "  </tbody>\n",
       "</table>\n",
       "</div>"
      ],
      "text/plain": [
       "          2010      2011      2012      2013\n",
       "0    -0.220139 -0.223371 -0.232488 -0.233171\n",
       "1    -0.148842 -0.146810 -0.139962 -0.129292\n",
       "10   -0.216427 -0.221913 -0.229343 -0.231798\n",
       "100  -0.219883 -0.223371 -0.233213 -0.233296\n",
       "1000 -0.220267 -0.222763 -0.233334 -0.234170"
      ]
     },
     "execution_count": 120,
     "metadata": {},
     "output_type": "execute_result"
    }
   ],
   "source": [
    "df_evening.head()"
   ]
  },
  {
   "cell_type": "code",
   "execution_count": 121,
   "metadata": {
    "collapsed": false
   },
   "outputs": [
    {
     "ename": "KeyError",
     "evalue": "'intersection'",
     "output_type": "error",
     "traceback": [
      "\u001b[1;31m---------------------------------------------------------------------------\u001b[0m",
      "\u001b[1;31mKeyError\u001b[0m                                  Traceback (most recent call last)",
      "\u001b[1;32m<ipython-input-121-750c2f15a791>\u001b[0m in \u001b[0;36m<module>\u001b[1;34m()\u001b[0m\n\u001b[1;32m----> 1\u001b[1;33m \u001b[0mdf_evening\u001b[0m\u001b[1;33m.\u001b[0m\u001b[0mset_index\u001b[0m\u001b[1;33m(\u001b[0m\u001b[1;34m'intersection'\u001b[0m\u001b[1;33m,\u001b[0m \u001b[0minplace\u001b[0m \u001b[1;33m=\u001b[0m \u001b[0mTrue\u001b[0m\u001b[1;33m)\u001b[0m\u001b[1;33m\u001b[0m\u001b[0m\n\u001b[0m",
      "\u001b[1;32m/opt/rh/anaconda/root/lib/python2.7/site-packages/pandas/core/frame.pyc\u001b[0m in \u001b[0;36mset_index\u001b[1;34m(self, keys, drop, append, inplace, verify_integrity)\u001b[0m\n\u001b[0;32m   2485\u001b[0m                 \u001b[0mnames\u001b[0m\u001b[1;33m.\u001b[0m\u001b[0mappend\u001b[0m\u001b[1;33m(\u001b[0m\u001b[0mNone\u001b[0m\u001b[1;33m)\u001b[0m\u001b[1;33m\u001b[0m\u001b[0m\n\u001b[0;32m   2486\u001b[0m             \u001b[1;32melse\u001b[0m\u001b[1;33m:\u001b[0m\u001b[1;33m\u001b[0m\u001b[0m\n\u001b[1;32m-> 2487\u001b[1;33m                 \u001b[0mlevel\u001b[0m \u001b[1;33m=\u001b[0m \u001b[0mframe\u001b[0m\u001b[1;33m[\u001b[0m\u001b[0mcol\u001b[0m\u001b[1;33m]\u001b[0m\u001b[1;33m.\u001b[0m\u001b[0mvalues\u001b[0m\u001b[1;33m\u001b[0m\u001b[0m\n\u001b[0m\u001b[0;32m   2488\u001b[0m                 \u001b[0mnames\u001b[0m\u001b[1;33m.\u001b[0m\u001b[0mappend\u001b[0m\u001b[1;33m(\u001b[0m\u001b[0mcol\u001b[0m\u001b[1;33m)\u001b[0m\u001b[1;33m\u001b[0m\u001b[0m\n\u001b[0;32m   2489\u001b[0m                 \u001b[1;32mif\u001b[0m \u001b[0mdrop\u001b[0m\u001b[1;33m:\u001b[0m\u001b[1;33m\u001b[0m\u001b[0m\n",
      "\u001b[1;32m/opt/rh/anaconda/root/lib/python2.7/site-packages/pandas/core/frame.pyc\u001b[0m in \u001b[0;36m__getitem__\u001b[1;34m(self, key)\u001b[0m\n\u001b[0;32m   1778\u001b[0m             \u001b[1;32mreturn\u001b[0m \u001b[0mself\u001b[0m\u001b[1;33m.\u001b[0m\u001b[0m_getitem_multilevel\u001b[0m\u001b[1;33m(\u001b[0m\u001b[0mkey\u001b[0m\u001b[1;33m)\u001b[0m\u001b[1;33m\u001b[0m\u001b[0m\n\u001b[0;32m   1779\u001b[0m         \u001b[1;32melse\u001b[0m\u001b[1;33m:\u001b[0m\u001b[1;33m\u001b[0m\u001b[0m\n\u001b[1;32m-> 1780\u001b[1;33m             \u001b[1;32mreturn\u001b[0m \u001b[0mself\u001b[0m\u001b[1;33m.\u001b[0m\u001b[0m_getitem_column\u001b[0m\u001b[1;33m(\u001b[0m\u001b[0mkey\u001b[0m\u001b[1;33m)\u001b[0m\u001b[1;33m\u001b[0m\u001b[0m\n\u001b[0m\u001b[0;32m   1781\u001b[0m \u001b[1;33m\u001b[0m\u001b[0m\n\u001b[0;32m   1782\u001b[0m     \u001b[1;32mdef\u001b[0m \u001b[0m_getitem_column\u001b[0m\u001b[1;33m(\u001b[0m\u001b[0mself\u001b[0m\u001b[1;33m,\u001b[0m \u001b[0mkey\u001b[0m\u001b[1;33m)\u001b[0m\u001b[1;33m:\u001b[0m\u001b[1;33m\u001b[0m\u001b[0m\n",
      "\u001b[1;32m/opt/rh/anaconda/root/lib/python2.7/site-packages/pandas/core/frame.pyc\u001b[0m in \u001b[0;36m_getitem_column\u001b[1;34m(self, key)\u001b[0m\n\u001b[0;32m   1785\u001b[0m         \u001b[1;31m# get column\u001b[0m\u001b[1;33m\u001b[0m\u001b[1;33m\u001b[0m\u001b[0m\n\u001b[0;32m   1786\u001b[0m         \u001b[1;32mif\u001b[0m \u001b[0mself\u001b[0m\u001b[1;33m.\u001b[0m\u001b[0mcolumns\u001b[0m\u001b[1;33m.\u001b[0m\u001b[0mis_unique\u001b[0m\u001b[1;33m:\u001b[0m\u001b[1;33m\u001b[0m\u001b[0m\n\u001b[1;32m-> 1787\u001b[1;33m             \u001b[1;32mreturn\u001b[0m \u001b[0mself\u001b[0m\u001b[1;33m.\u001b[0m\u001b[0m_get_item_cache\u001b[0m\u001b[1;33m(\u001b[0m\u001b[0mkey\u001b[0m\u001b[1;33m)\u001b[0m\u001b[1;33m\u001b[0m\u001b[0m\n\u001b[0m\u001b[0;32m   1788\u001b[0m \u001b[1;33m\u001b[0m\u001b[0m\n\u001b[0;32m   1789\u001b[0m         \u001b[1;31m# duplicate columns & possible reduce dimensionaility\u001b[0m\u001b[1;33m\u001b[0m\u001b[1;33m\u001b[0m\u001b[0m\n",
      "\u001b[1;32m/opt/rh/anaconda/root/lib/python2.7/site-packages/pandas/core/generic.pyc\u001b[0m in \u001b[0;36m_get_item_cache\u001b[1;34m(self, item)\u001b[0m\n\u001b[0;32m   1066\u001b[0m         \u001b[0mres\u001b[0m \u001b[1;33m=\u001b[0m \u001b[0mcache\u001b[0m\u001b[1;33m.\u001b[0m\u001b[0mget\u001b[0m\u001b[1;33m(\u001b[0m\u001b[0mitem\u001b[0m\u001b[1;33m)\u001b[0m\u001b[1;33m\u001b[0m\u001b[0m\n\u001b[0;32m   1067\u001b[0m         \u001b[1;32mif\u001b[0m \u001b[0mres\u001b[0m \u001b[1;32mis\u001b[0m \u001b[0mNone\u001b[0m\u001b[1;33m:\u001b[0m\u001b[1;33m\u001b[0m\u001b[0m\n\u001b[1;32m-> 1068\u001b[1;33m             \u001b[0mvalues\u001b[0m \u001b[1;33m=\u001b[0m \u001b[0mself\u001b[0m\u001b[1;33m.\u001b[0m\u001b[0m_data\u001b[0m\u001b[1;33m.\u001b[0m\u001b[0mget\u001b[0m\u001b[1;33m(\u001b[0m\u001b[0mitem\u001b[0m\u001b[1;33m)\u001b[0m\u001b[1;33m\u001b[0m\u001b[0m\n\u001b[0m\u001b[0;32m   1069\u001b[0m             \u001b[0mres\u001b[0m \u001b[1;33m=\u001b[0m \u001b[0mself\u001b[0m\u001b[1;33m.\u001b[0m\u001b[0m_box_item_values\u001b[0m\u001b[1;33m(\u001b[0m\u001b[0mitem\u001b[0m\u001b[1;33m,\u001b[0m \u001b[0mvalues\u001b[0m\u001b[1;33m)\u001b[0m\u001b[1;33m\u001b[0m\u001b[0m\n\u001b[0;32m   1070\u001b[0m             \u001b[0mcache\u001b[0m\u001b[1;33m[\u001b[0m\u001b[0mitem\u001b[0m\u001b[1;33m]\u001b[0m \u001b[1;33m=\u001b[0m \u001b[0mres\u001b[0m\u001b[1;33m\u001b[0m\u001b[0m\n",
      "\u001b[1;32m/opt/rh/anaconda/root/lib/python2.7/site-packages/pandas/core/internals.pyc\u001b[0m in \u001b[0;36mget\u001b[1;34m(self, item, fastpath)\u001b[0m\n\u001b[0;32m   2847\u001b[0m \u001b[1;33m\u001b[0m\u001b[0m\n\u001b[0;32m   2848\u001b[0m             \u001b[1;32mif\u001b[0m \u001b[1;32mnot\u001b[0m \u001b[0misnull\u001b[0m\u001b[1;33m(\u001b[0m\u001b[0mitem\u001b[0m\u001b[1;33m)\u001b[0m\u001b[1;33m:\u001b[0m\u001b[1;33m\u001b[0m\u001b[0m\n\u001b[1;32m-> 2849\u001b[1;33m                 \u001b[0mloc\u001b[0m \u001b[1;33m=\u001b[0m \u001b[0mself\u001b[0m\u001b[1;33m.\u001b[0m\u001b[0mitems\u001b[0m\u001b[1;33m.\u001b[0m\u001b[0mget_loc\u001b[0m\u001b[1;33m(\u001b[0m\u001b[0mitem\u001b[0m\u001b[1;33m)\u001b[0m\u001b[1;33m\u001b[0m\u001b[0m\n\u001b[0m\u001b[0;32m   2850\u001b[0m             \u001b[1;32melse\u001b[0m\u001b[1;33m:\u001b[0m\u001b[1;33m\u001b[0m\u001b[0m\n\u001b[0;32m   2851\u001b[0m                 \u001b[0mindexer\u001b[0m \u001b[1;33m=\u001b[0m \u001b[0mnp\u001b[0m\u001b[1;33m.\u001b[0m\u001b[0marange\u001b[0m\u001b[1;33m(\u001b[0m\u001b[0mlen\u001b[0m\u001b[1;33m(\u001b[0m\u001b[0mself\u001b[0m\u001b[1;33m.\u001b[0m\u001b[0mitems\u001b[0m\u001b[1;33m)\u001b[0m\u001b[1;33m)\u001b[0m\u001b[1;33m[\u001b[0m\u001b[0misnull\u001b[0m\u001b[1;33m(\u001b[0m\u001b[0mself\u001b[0m\u001b[1;33m.\u001b[0m\u001b[0mitems\u001b[0m\u001b[1;33m)\u001b[0m\u001b[1;33m]\u001b[0m\u001b[1;33m\u001b[0m\u001b[0m\n",
      "\u001b[1;32m/opt/rh/anaconda/root/lib/python2.7/site-packages/pandas/core/index.pyc\u001b[0m in \u001b[0;36mget_loc\u001b[1;34m(self, key)\u001b[0m\n\u001b[0;32m   2666\u001b[0m         \u001b[1;32mexcept\u001b[0m \u001b[1;33m(\u001b[0m\u001b[0mTypeError\u001b[0m\u001b[1;33m,\u001b[0m \u001b[0mNotImplementedError\u001b[0m\u001b[1;33m)\u001b[0m\u001b[1;33m:\u001b[0m\u001b[1;33m\u001b[0m\u001b[0m\n\u001b[0;32m   2667\u001b[0m             \u001b[1;32mpass\u001b[0m\u001b[1;33m\u001b[0m\u001b[0m\n\u001b[1;32m-> 2668\u001b[1;33m         \u001b[1;32mreturn\u001b[0m \u001b[0msuper\u001b[0m\u001b[1;33m(\u001b[0m\u001b[0mFloat64Index\u001b[0m\u001b[1;33m,\u001b[0m \u001b[0mself\u001b[0m\u001b[1;33m)\u001b[0m\u001b[1;33m.\u001b[0m\u001b[0mget_loc\u001b[0m\u001b[1;33m(\u001b[0m\u001b[0mkey\u001b[0m\u001b[1;33m)\u001b[0m\u001b[1;33m\u001b[0m\u001b[0m\n\u001b[0m\u001b[0;32m   2669\u001b[0m \u001b[1;33m\u001b[0m\u001b[0m\n\u001b[0;32m   2670\u001b[0m     \u001b[1;33m@\u001b[0m\u001b[0mproperty\u001b[0m\u001b[1;33m\u001b[0m\u001b[0m\n",
      "\u001b[1;32m/opt/rh/anaconda/root/lib/python2.7/site-packages/pandas/core/index.pyc\u001b[0m in \u001b[0;36mget_loc\u001b[1;34m(self, key)\u001b[0m\n\u001b[0;32m   1400\u001b[0m         \u001b[0mloc\u001b[0m \u001b[1;33m:\u001b[0m \u001b[0mint\u001b[0m \u001b[1;32mif\u001b[0m \u001b[0munique\u001b[0m \u001b[0mindex\u001b[0m\u001b[1;33m,\u001b[0m \u001b[0mpossibly\u001b[0m \u001b[0mslice\u001b[0m \u001b[1;32mor\u001b[0m \u001b[0mmask\u001b[0m \u001b[1;32mif\u001b[0m \u001b[1;32mnot\u001b[0m\u001b[1;33m\u001b[0m\u001b[0m\n\u001b[0;32m   1401\u001b[0m         \"\"\"\n\u001b[1;32m-> 1402\u001b[1;33m         \u001b[1;32mreturn\u001b[0m \u001b[0mself\u001b[0m\u001b[1;33m.\u001b[0m\u001b[0m_engine\u001b[0m\u001b[1;33m.\u001b[0m\u001b[0mget_loc\u001b[0m\u001b[1;33m(\u001b[0m\u001b[0m_values_from_object\u001b[0m\u001b[1;33m(\u001b[0m\u001b[0mkey\u001b[0m\u001b[1;33m)\u001b[0m\u001b[1;33m)\u001b[0m\u001b[1;33m\u001b[0m\u001b[0m\n\u001b[0m\u001b[0;32m   1403\u001b[0m \u001b[1;33m\u001b[0m\u001b[0m\n\u001b[0;32m   1404\u001b[0m     \u001b[1;32mdef\u001b[0m \u001b[0mget_value\u001b[0m\u001b[1;33m(\u001b[0m\u001b[0mself\u001b[0m\u001b[1;33m,\u001b[0m \u001b[0mseries\u001b[0m\u001b[1;33m,\u001b[0m \u001b[0mkey\u001b[0m\u001b[1;33m)\u001b[0m\u001b[1;33m:\u001b[0m\u001b[1;33m\u001b[0m\u001b[0m\n",
      "\u001b[1;32mpandas/index.pyx\u001b[0m in \u001b[0;36mpandas.index.IndexEngine.get_loc (pandas/index.c:3820)\u001b[1;34m()\u001b[0m\n",
      "\u001b[1;32mpandas/index.pyx\u001b[0m in \u001b[0;36mpandas.index.IndexEngine.get_loc (pandas/index.c:3757)\u001b[1;34m()\u001b[0m\n",
      "\u001b[1;31mKeyError\u001b[0m: 'intersection'"
     ]
    }
   ],
   "source": [
    "df_evening.set_index('intersection', inplace = True)"
   ]
  },
  {
   "cell_type": "code",
   "execution_count": 6,
   "metadata": {
    "collapsed": false
   },
   "outputs": [],
   "source": [
    "df_re = pd.read_json(\"/scratch/share/akabd/scripts/RealEstateJoin/RealEstate01year.json\")"
   ]
  },
  {
   "cell_type": "code",
   "execution_count": 59,
   "metadata": {
    "collapsed": false
   },
   "outputs": [
    {
     "data": {
      "text/html": [
       "<div style=\"max-height:1000px;max-width:1500px;overflow:auto;\">\n",
       "<table border=\"1\" class=\"dataframe\">\n",
       "  <thead>\n",
       "    <tr style=\"text-align: right;\">\n",
       "      <th></th>\n",
       "      <th>2004count</th>\n",
       "      <th>2004price</th>\n",
       "      <th>2005count</th>\n",
       "      <th>2005price</th>\n",
       "      <th>2006count</th>\n",
       "      <th>2006price</th>\n",
       "      <th>2007count</th>\n",
       "      <th>2007price</th>\n",
       "      <th>2008count</th>\n",
       "      <th>2008price</th>\n",
       "      <th>...</th>\n",
       "      <th>2011count</th>\n",
       "      <th>2011price</th>\n",
       "      <th>2012count</th>\n",
       "      <th>2012price</th>\n",
       "      <th>2013count</th>\n",
       "      <th>2013price</th>\n",
       "      <th>2014count</th>\n",
       "      <th>2014price</th>\n",
       "      <th>2015count</th>\n",
       "      <th>2015price</th>\n",
       "    </tr>\n",
       "  </thead>\n",
       "  <tbody>\n",
       "    <tr>\n",
       "      <th>0   </th>\n",
       "      <td> 20</td>\n",
       "      <td>  6039630</td>\n",
       "      <td> 18</td>\n",
       "      <td>  6297500</td>\n",
       "      <td> 16</td>\n",
       "      <td>  7313000</td>\n",
       "      <td> 323</td>\n",
       "      <td>  2632010</td>\n",
       "      <td>  8</td>\n",
       "      <td> 1596050</td>\n",
       "      <td>...</td>\n",
       "      <td>  7</td>\n",
       "      <td>   1855000</td>\n",
       "      <td>  5</td>\n",
       "      <td>       0</td>\n",
       "      <td>  3</td>\n",
       "      <td>       0</td>\n",
       "      <td>  9</td>\n",
       "      <td>  5880500</td>\n",
       "      <td>  3</td>\n",
       "      <td>  2278000</td>\n",
       "    </tr>\n",
       "    <tr>\n",
       "      <th>1   </th>\n",
       "      <td> 41</td>\n",
       "      <td> 12749817</td>\n",
       "      <td> 60</td>\n",
       "      <td> 18802126</td>\n",
       "      <td> 28</td>\n",
       "      <td> 12568629</td>\n",
       "      <td>  29</td>\n",
       "      <td> 10864821</td>\n",
       "      <td> 22</td>\n",
       "      <td> 5548320</td>\n",
       "      <td>...</td>\n",
       "      <td> 16</td>\n",
       "      <td> 201777686</td>\n",
       "      <td> 30</td>\n",
       "      <td>       0</td>\n",
       "      <td> 30</td>\n",
       "      <td>       0</td>\n",
       "      <td> 18</td>\n",
       "      <td> 10536248</td>\n",
       "      <td>  8</td>\n",
       "      <td>  5968000</td>\n",
       "    </tr>\n",
       "    <tr>\n",
       "      <th>10  </th>\n",
       "      <td> 20</td>\n",
       "      <td>  3750000</td>\n",
       "      <td> 32</td>\n",
       "      <td> 23626940</td>\n",
       "      <td> 12</td>\n",
       "      <td>  4849010</td>\n",
       "      <td>  20</td>\n",
       "      <td>  7886900</td>\n",
       "      <td> 14</td>\n",
       "      <td> 4677000</td>\n",
       "      <td>...</td>\n",
       "      <td>  5</td>\n",
       "      <td>   1197000</td>\n",
       "      <td> 12</td>\n",
       "      <td> 1914720</td>\n",
       "      <td>  5</td>\n",
       "      <td> 1350750</td>\n",
       "      <td> 10</td>\n",
       "      <td> 11758010</td>\n",
       "      <td> 10</td>\n",
       "      <td> 30279300</td>\n",
       "    </tr>\n",
       "    <tr>\n",
       "      <th>100 </th>\n",
       "      <td>  7</td>\n",
       "      <td>  1920000</td>\n",
       "      <td> 12</td>\n",
       "      <td>  2899237</td>\n",
       "      <td>  5</td>\n",
       "      <td>  1703015</td>\n",
       "      <td>   6</td>\n",
       "      <td>  1967250</td>\n",
       "      <td>  7</td>\n",
       "      <td> 1077090</td>\n",
       "      <td>...</td>\n",
       "      <td>  4</td>\n",
       "      <td>    864949</td>\n",
       "      <td>  7</td>\n",
       "      <td> 1441500</td>\n",
       "      <td>  6</td>\n",
       "      <td> 1761000</td>\n",
       "      <td>  4</td>\n",
       "      <td>   751804</td>\n",
       "      <td>  6</td>\n",
       "      <td>  1512000</td>\n",
       "    </tr>\n",
       "    <tr>\n",
       "      <th>1000</th>\n",
       "      <td> 29</td>\n",
       "      <td>  5480996</td>\n",
       "      <td> 16</td>\n",
       "      <td>  3126440</td>\n",
       "      <td> 21</td>\n",
       "      <td>  5173397</td>\n",
       "      <td>  13</td>\n",
       "      <td>  4176458</td>\n",
       "      <td> 12</td>\n",
       "      <td> 1912500</td>\n",
       "      <td>...</td>\n",
       "      <td>  6</td>\n",
       "      <td>   1234449</td>\n",
       "      <td> 10</td>\n",
       "      <td> 1030000</td>\n",
       "      <td>  9</td>\n",
       "      <td> 2826750</td>\n",
       "      <td> 16</td>\n",
       "      <td>  3910550</td>\n",
       "      <td>  7</td>\n",
       "      <td>  1888500</td>\n",
       "    </tr>\n",
       "  </tbody>\n",
       "</table>\n",
       "<p>5 rows × 24 columns</p>\n",
       "</div>"
      ],
      "text/plain": [
       "      2004count  2004price  2005count  2005price  2006count  2006price  \\\n",
       "0            20    6039630         18    6297500         16    7313000   \n",
       "1            41   12749817         60   18802126         28   12568629   \n",
       "10           20    3750000         32   23626940         12    4849010   \n",
       "100           7    1920000         12    2899237          5    1703015   \n",
       "1000         29    5480996         16    3126440         21    5173397   \n",
       "\n",
       "      2007count  2007price  2008count  2008price    ...      2011count  \\\n",
       "0           323    2632010          8    1596050    ...              7   \n",
       "1            29   10864821         22    5548320    ...             16   \n",
       "10           20    7886900         14    4677000    ...              5   \n",
       "100           6    1967250          7    1077090    ...              4   \n",
       "1000         13    4176458         12    1912500    ...              6   \n",
       "\n",
       "      2011price  2012count  2012price  2013count  2013price  2014count  \\\n",
       "0       1855000          5          0          3          0          9   \n",
       "1     201777686         30          0         30          0         18   \n",
       "10      1197000         12    1914720          5    1350750         10   \n",
       "100      864949          7    1441500          6    1761000          4   \n",
       "1000    1234449         10    1030000          9    2826750         16   \n",
       "\n",
       "      2014price  2015count  2015price  \n",
       "0       5880500          3    2278000  \n",
       "1      10536248          8    5968000  \n",
       "10     11758010         10   30279300  \n",
       "100      751804          6    1512000  \n",
       "1000    3910550          7    1888500  \n",
       "\n",
       "[5 rows x 24 columns]"
      ]
     },
     "execution_count": 59,
     "metadata": {},
     "output_type": "execute_result"
    }
   ],
   "source": [
    "df_re.head()"
   ]
  },
  {
   "cell_type": "code",
   "execution_count": 7,
   "metadata": {
    "collapsed": false
   },
   "outputs": [],
   "source": [
    "even = [i for i in xrange(0, 24) if i % 2 == 0]\n",
    "odd = [i for i in xrange(0, 24) if i % 2 != 0]"
   ]
  },
  {
   "cell_type": "code",
   "execution_count": 8,
   "metadata": {
    "collapsed": false
   },
   "outputs": [],
   "source": [
    "df_re = df_re.transpose()"
   ]
  },
  {
   "cell_type": "code",
   "execution_count": 14,
   "metadata": {
    "collapsed": false
   },
   "outputs": [],
   "source": [
    "df_count = df_re[even]"
   ]
  },
  {
   "cell_type": "code",
   "execution_count": 15,
   "metadata": {
    "collapsed": false
   },
   "outputs": [],
   "source": [
    "df_price = df_re[odd]"
   ]
  },
  {
   "cell_type": "code",
   "execution_count": 79,
   "metadata": {
    "collapsed": false
   },
   "outputs": [],
   "source": [
    "df091011= df_count.dropna().pct_change(axis=1).iloc[:,1:][['2009count', '2010count', '2011count']]"
   ]
  },
  {
   "cell_type": "code",
   "execution_count": 80,
   "metadata": {
    "collapsed": false
   },
   "outputs": [],
   "source": [
    "test = pd.merge(df_evening, df091011, right_index = True, left_index = True)"
   ]
  },
  {
   "cell_type": "code",
   "execution_count": 81,
   "metadata": {
    "collapsed": false
   },
   "outputs": [],
   "source": [
    "test.replace([np.inf, -np.inf], np.nan, inplace = True)"
   ]
  },
  {
   "cell_type": "code",
   "execution_count": 82,
   "metadata": {
    "collapsed": false
   },
   "outputs": [],
   "source": [
    "test.dropna(inplace = True)"
   ]
  },
  {
   "cell_type": "code",
   "execution_count": 83,
   "metadata": {
    "collapsed": false
   },
   "outputs": [
    {
     "data": {
      "text/html": [
       "<div style=\"max-height:1000px;max-width:1500px;overflow:auto;\">\n",
       "<table border=\"1\" class=\"dataframe\">\n",
       "  <thead>\n",
       "    <tr style=\"text-align: right;\">\n",
       "      <th></th>\n",
       "      <th>2011</th>\n",
       "      <th>2012</th>\n",
       "      <th>2013</th>\n",
       "      <th>2009count</th>\n",
       "      <th>2010count</th>\n",
       "      <th>2011count</th>\n",
       "    </tr>\n",
       "  </thead>\n",
       "  <tbody>\n",
       "    <tr>\n",
       "      <th>count</th>\n",
       "      <td> 53132.000000</td>\n",
       "      <td> 53132.000000</td>\n",
       "      <td> 53132.000000</td>\n",
       "      <td> 53132.000000</td>\n",
       "      <td> 53132.000000</td>\n",
       "      <td> 53132.000000</td>\n",
       "    </tr>\n",
       "    <tr>\n",
       "      <th>mean</th>\n",
       "      <td>     0.628556</td>\n",
       "      <td>     0.212708</td>\n",
       "      <td>     0.003177</td>\n",
       "      <td>     0.108741</td>\n",
       "      <td>     0.372330</td>\n",
       "      <td>     0.256094</td>\n",
       "    </tr>\n",
       "    <tr>\n",
       "      <th>std</th>\n",
       "      <td>    22.826144</td>\n",
       "      <td>     0.826521</td>\n",
       "      <td>     1.063388</td>\n",
       "      <td>     1.112632</td>\n",
       "      <td>     2.646529</td>\n",
       "      <td>     1.267965</td>\n",
       "    </tr>\n",
       "    <tr>\n",
       "      <th>min</th>\n",
       "      <td>    -0.967890</td>\n",
       "      <td>    -0.987101</td>\n",
       "      <td>    -0.990654</td>\n",
       "      <td>    -0.990099</td>\n",
       "      <td>    -0.956522</td>\n",
       "      <td>    -0.994413</td>\n",
       "    </tr>\n",
       "    <tr>\n",
       "      <th>5%</th>\n",
       "      <td>    -0.500000</td>\n",
       "      <td>    -0.500000</td>\n",
       "      <td>    -0.583333</td>\n",
       "      <td>    -0.750000</td>\n",
       "      <td>    -0.714286</td>\n",
       "      <td>    -0.750000</td>\n",
       "    </tr>\n",
       "    <tr>\n",
       "      <th>10%</th>\n",
       "      <td>    -0.350000</td>\n",
       "      <td>    -0.370370</td>\n",
       "      <td>    -0.464286</td>\n",
       "      <td>    -0.666667</td>\n",
       "      <td>    -0.600000</td>\n",
       "      <td>    -0.631579</td>\n",
       "    </tr>\n",
       "    <tr>\n",
       "      <th>25%</th>\n",
       "      <td>    -0.114447</td>\n",
       "      <td>    -0.133333</td>\n",
       "      <td>    -0.270072</td>\n",
       "      <td>    -0.480000</td>\n",
       "      <td>    -0.361259</td>\n",
       "      <td>    -0.400000</td>\n",
       "    </tr>\n",
       "    <tr>\n",
       "      <th>50%</th>\n",
       "      <td>     0.094906</td>\n",
       "      <td>     0.088235</td>\n",
       "      <td>    -0.081081</td>\n",
       "      <td>    -0.166667</td>\n",
       "      <td>     0.000000</td>\n",
       "      <td>     0.000000</td>\n",
       "    </tr>\n",
       "    <tr>\n",
       "      <th>75%</th>\n",
       "      <td>     0.335373</td>\n",
       "      <td>     0.382353</td>\n",
       "      <td>     0.109894</td>\n",
       "      <td>     0.300000</td>\n",
       "      <td>     0.571429</td>\n",
       "      <td>     0.500000</td>\n",
       "    </tr>\n",
       "    <tr>\n",
       "      <th>90%</th>\n",
       "      <td>     0.769231</td>\n",
       "      <td>     0.818182</td>\n",
       "      <td>     0.428571</td>\n",
       "      <td>     1.000000</td>\n",
       "      <td>     1.500000</td>\n",
       "      <td>     1.333333</td>\n",
       "    </tr>\n",
       "    <tr>\n",
       "      <th>95%</th>\n",
       "      <td>     1.200000</td>\n",
       "      <td>     1.203014</td>\n",
       "      <td>     0.769231</td>\n",
       "      <td>     2.000000</td>\n",
       "      <td>     2.500000</td>\n",
       "      <td>     2.166667</td>\n",
       "    </tr>\n",
       "    <tr>\n",
       "      <th>max</th>\n",
       "      <td>  3562.500000</td>\n",
       "      <td>    72.000000</td>\n",
       "      <td>   142.600000</td>\n",
       "      <td>    27.000000</td>\n",
       "      <td>   176.000000</td>\n",
       "      <td>    55.000000</td>\n",
       "    </tr>\n",
       "  </tbody>\n",
       "</table>\n",
       "</div>"
      ],
      "text/plain": [
       "               2011          2012          2013     2009count     2010count  \\\n",
       "count  53132.000000  53132.000000  53132.000000  53132.000000  53132.000000   \n",
       "mean       0.628556      0.212708      0.003177      0.108741      0.372330   \n",
       "std       22.826144      0.826521      1.063388      1.112632      2.646529   \n",
       "min       -0.967890     -0.987101     -0.990654     -0.990099     -0.956522   \n",
       "5%        -0.500000     -0.500000     -0.583333     -0.750000     -0.714286   \n",
       "10%       -0.350000     -0.370370     -0.464286     -0.666667     -0.600000   \n",
       "25%       -0.114447     -0.133333     -0.270072     -0.480000     -0.361259   \n",
       "50%        0.094906      0.088235     -0.081081     -0.166667      0.000000   \n",
       "75%        0.335373      0.382353      0.109894      0.300000      0.571429   \n",
       "90%        0.769231      0.818182      0.428571      1.000000      1.500000   \n",
       "95%        1.200000      1.203014      0.769231      2.000000      2.500000   \n",
       "max     3562.500000     72.000000    142.600000     27.000000    176.000000   \n",
       "\n",
       "          2011count  \n",
       "count  53132.000000  \n",
       "mean       0.256094  \n",
       "std        1.267965  \n",
       "min       -0.994413  \n",
       "5%        -0.750000  \n",
       "10%       -0.631579  \n",
       "25%       -0.400000  \n",
       "50%        0.000000  \n",
       "75%        0.500000  \n",
       "90%        1.333333  \n",
       "95%        2.166667  \n",
       "max       55.000000  "
      ]
     },
     "execution_count": 83,
     "metadata": {},
     "output_type": "execute_result"
    }
   ],
   "source": [
    "test.describe(percentiles = [.05, .1, .25, .5, .75, .90, .95])"
   ]
  },
  {
   "cell_type": "code",
   "execution_count": 22,
   "metadata": {
    "collapsed": false
   },
   "outputs": [],
   "source": [
    "date_columns = ['2010', '2011', '2012']\n",
    "df_test = test[(test['2010'] < test['2011'].quantile(.95)) & (test['2010price'] < test['2010price'].quantile(.95))]"
   ]
  },
  {
   "cell_type": "code",
   "execution_count": 90,
   "metadata": {
    "collapsed": false
   },
   "outputs": [],
   "source": [
    "df_test = test[(test['2011'] > test['2011'].quantile(.95)) ] #& (test['2010'] < test['2010'].quantile(.99))]# & (test['2010price'] > test['2010price'].quantile(.95))]"
   ]
  },
  {
   "cell_type": "code",
   "execution_count": 93,
   "metadata": {
    "collapsed": false
   },
   "outputs": [
    {
     "data": {
      "text/plain": [
       "[<matplotlib.lines.Line2D at 0x7f0d73e12fd0>]"
      ]
     },
     "execution_count": 93,
     "metadata": {},
     "output_type": "execute_result"
    },
    {
     "data": {
      "image/png": "[encoded data removed]",
      "text/plain": [
       "<matplotlib.figure.Figure at 0x7f0d6f63f250>"
      ]
     },
     "metadata": {},
     "output_type": "display_data"
    }
   ],
   "source": [
    "#df_test\n",
    "plt.plot(df_test['2011'], df_test['2009count'], 'o', markersize = 5)\n"
   ]
  },
  {
   "cell_type": "code",
   "execution_count": 44,
   "metadata": {
    "collapsed": false
   },
   "outputs": [
    {
     "data": {
      "text/html": [
       "<div style=\"max-height:1000px;max-width:1500px;overflow:auto;\">\n",
       "<table border=\"1\" class=\"dataframe\">\n",
       "  <thead>\n",
       "    <tr style=\"text-align: right;\">\n",
       "      <th></th>\n",
       "      <th>2010</th>\n",
       "      <th>2011</th>\n",
       "      <th>2012</th>\n",
       "      <th>2010price</th>\n",
       "      <th>2011price</th>\n",
       "      <th>2012price</th>\n",
       "    </tr>\n",
       "  </thead>\n",
       "  <tbody>\n",
       "    <tr>\n",
       "      <th>count</th>\n",
       "      <td> 50345.000000</td>\n",
       "      <td> 50345.000000</td>\n",
       "      <td> 50345.000000</td>\n",
       "      <td> 5.034500e+04</td>\n",
       "      <td> 5.034500e+04</td>\n",
       "      <td> 5.034500e+04</td>\n",
       "    </tr>\n",
       "    <tr>\n",
       "      <th>mean</th>\n",
       "      <td>     0.643546</td>\n",
       "      <td>     0.214804</td>\n",
       "      <td>     0.004573</td>\n",
       "      <td>          inf</td>\n",
       "      <td>          inf</td>\n",
       "      <td>          inf</td>\n",
       "    </tr>\n",
       "    <tr>\n",
       "      <th>std</th>\n",
       "      <td>    23.443181</td>\n",
       "      <td>     0.822334</td>\n",
       "      <td>     1.083297</td>\n",
       "      <td>          NaN</td>\n",
       "      <td>          NaN</td>\n",
       "      <td>          NaN</td>\n",
       "    </tr>\n",
       "    <tr>\n",
       "      <th>min</th>\n",
       "      <td>    -0.967890</td>\n",
       "      <td>    -0.987101</td>\n",
       "      <td>    -0.990654</td>\n",
       "      <td>-1.000000e+00</td>\n",
       "      <td>-1.000000e+00</td>\n",
       "      <td>-1.000000e+00</td>\n",
       "    </tr>\n",
       "    <tr>\n",
       "      <th>25%</th>\n",
       "      <td>    -0.113636</td>\n",
       "      <td>    -0.130000</td>\n",
       "      <td>    -0.268293</td>\n",
       "      <td>-4.945220e-01</td>\n",
       "      <td>-4.901107e-01</td>\n",
       "      <td>-1.000000e+00</td>\n",
       "    </tr>\n",
       "    <tr>\n",
       "      <th>50%</th>\n",
       "      <td>     0.093991</td>\n",
       "      <td>     0.090909</td>\n",
       "      <td>    -0.079681</td>\n",
       "      <td> 4.629094e-02</td>\n",
       "      <td> 1.283033e-02</td>\n",
       "      <td>-1.000000e+00</td>\n",
       "    </tr>\n",
       "    <tr>\n",
       "      <th>75%</th>\n",
       "      <td>     0.333333</td>\n",
       "      <td>     0.383648</td>\n",
       "      <td>     0.111111</td>\n",
       "      <td> 1.166250e+00</td>\n",
       "      <td> 1.193039e+00</td>\n",
       "      <td>-8.856211e-01</td>\n",
       "    </tr>\n",
       "    <tr>\n",
       "      <th>max</th>\n",
       "      <td>  3562.500000</td>\n",
       "      <td>    72.000000</td>\n",
       "      <td>   142.600000</td>\n",
       "      <td>          inf</td>\n",
       "      <td>          inf</td>\n",
       "      <td>          inf</td>\n",
       "    </tr>\n",
       "  </tbody>\n",
       "</table>\n",
       "</div>"
      ],
      "text/plain": [
       "               2010          2011          2012     2010price     2011price  \\\n",
       "count  50345.000000  50345.000000  50345.000000  5.034500e+04  5.034500e+04   \n",
       "mean       0.643546      0.214804      0.004573           inf           inf   \n",
       "std       23.443181      0.822334      1.083297           NaN           NaN   \n",
       "min       -0.967890     -0.987101     -0.990654 -1.000000e+00 -1.000000e+00   \n",
       "25%       -0.113636     -0.130000     -0.268293 -4.945220e-01 -4.901107e-01   \n",
       "50%        0.093991      0.090909     -0.079681  4.629094e-02  1.283033e-02   \n",
       "75%        0.333333      0.383648      0.111111  1.166250e+00  1.193039e+00   \n",
       "max     3562.500000     72.000000    142.600000           inf           inf   \n",
       "\n",
       "          2012price  \n",
       "count  5.034500e+04  \n",
       "mean            inf  \n",
       "std             NaN  \n",
       "min   -1.000000e+00  \n",
       "25%   -1.000000e+00  \n",
       "50%   -1.000000e+00  \n",
       "75%   -8.856211e-01  \n",
       "max             inf  "
      ]
     },
     "execution_count": 44,
     "metadata": {},
     "output_type": "execute_result"
    }
   ],
   "source": [
    "test.describe()"
   ]
  },
  {
   "cell_type": "code",
   "execution_count": null,
   "metadata": {
    "collapsed": true
   },
   "outputs": [],
   "source": []
  }
 ],
 "metadata": {
  "kernelspec": {
   "display_name": "Python 2",
   "language": "python",
   "name": "python2"
  },
  "language_info": {
   "codemirror_mode": {
    "name": "ipython",
    "version": 2
   },
   "file_extension": ".py",
   "mimetype": "text/x-python",
   "name": "python",
   "nbconvert_exporter": "python",
   "pygments_lexer": "ipython2",
   "version": "2.7.9"
  }
 },
 "nbformat": 4,
 "nbformat_minor": 0
}
