{
 "metadata": {
  "name": "",
  "signature": "sha256:87330071415eec134242a0fb81b0d20564e7dcc5fad65d56823f91d844ad276d"
 },
 "nbformat": 3,
 "nbformat_minor": 0,
 "worksheets": [
  {
   "cells": [
    {
     "cell_type": "code",
     "collapsed": false,
     "input": [
      "import pandas as pd \n",
      "import numpy as np \n",
      "pd.set_option('display.mpl_style', 'default')\n",
      "import matplotlib.pylab as plt\n",
      "%matplotlib inline"
     ],
     "language": "python",
     "metadata": {},
     "outputs": [],
     "prompt_number": 1
    },
    {
     "cell_type": "code",
     "collapsed": false,
     "input": [
      "# df_evening = pd.read_csv(\"eveningdropoffschange.csv\")\n",
      "# df_evening.columns = ['intersection', '2011', '2012', '2013']"
     ],
     "language": "python",
     "metadata": {},
     "outputs": [],
     "prompt_number": 30
    },
    {
     "cell_type": "code",
     "collapsed": false,
     "input": [
      "df_evening = pd.read_json(\"EveningDropoffs.json\")\n",
      "df_evening = df_evening.transpose()\n",
      "\n",
      " "
     ],
     "language": "python",
     "metadata": {},
     "outputs": [],
     "prompt_number": 57
    },
    {
     "cell_type": "code",
     "collapsed": false,
     "input": [
      "mean2010 = df_evening[2010.0].mean()\n",
      "mean2011 = df_evening[2011.0].mean()\n",
      "mean2012 = df_evening[2012.0].mean() \n",
      "mean2013 = df_evening[2013.0].mean() \n",
      "\n",
      "std2010 = df_evening[2010.0].std()\n",
      "std2011 = df_evening[2011.0].std()\n",
      "std2012 = df_evening[2012.0].std()\n",
      "std2013 = df_evening[2013.0].std()"
     ],
     "language": "python",
     "metadata": {},
     "outputs": [],
     "prompt_number": 51
    },
    {
     "cell_type": "code",
     "collapsed": false,
     "input": [
      "df_evening[2010.0] = (df_evening[2010.0] - mean2010)/std2010\n",
      "df_evening[2011.0] = (df_evening[2011.0] - mean2011)/std2011\n",
      "df_evening[2012.0] = (df_evening[2012.0] - mean2012)/std2012\n",
      "df_evening[2013.0] = (df_evening[2013.0] - mean2013)/std2013"
     ],
     "language": "python",
     "metadata": {},
     "outputs": [],
     "prompt_number": 52
    },
    {
     "cell_type": "code",
     "collapsed": false,
     "input": [],
     "language": "python",
     "metadata": {},
     "outputs": [],
     "prompt_number": 51
    },
    {
     "cell_type": "code",
     "collapsed": false,
     "input": [],
     "language": "python",
     "metadata": {},
     "outputs": [],
     "prompt_number": 63
    },
    {
     "cell_type": "code",
     "collapsed": false,
     "input": [],
     "language": "python",
     "metadata": {},
     "outputs": [],
     "prompt_number": 64
    },
    {
     "cell_type": "markdown",
     "metadata": {},
     "source": [
      "Real Estate"
     ]
    },
    {
     "cell_type": "code",
     "collapsed": false,
     "input": [
      "df_re = pd.read_json(\"../RealEstate01year.json\")"
     ],
     "language": "python",
     "metadata": {},
     "outputs": [],
     "prompt_number": 5
    },
    {
     "cell_type": "code",
     "collapsed": false,
     "input": [
      "even = [i for i in xrange(0, 24) if i % 2 == 0]\n",
      "odd = [i for i in xrange(0, 24) if i % 2 != 0]"
     ],
     "language": "python",
     "metadata": {},
     "outputs": [],
     "prompt_number": 6
    },
    {
     "cell_type": "code",
     "collapsed": false,
     "input": [
      "df_re = df_re.transpose()"
     ],
     "language": "python",
     "metadata": {},
     "outputs": [],
     "prompt_number": 7
    },
    {
     "cell_type": "code",
     "collapsed": false,
     "input": [
      "df_count = df_re[even]\n",
      "df_price = df_re[odd]"
     ],
     "language": "python",
     "metadata": {},
     "outputs": [],
     "prompt_number": 8
    },
    {
     "cell_type": "code",
     "collapsed": false,
     "input": [
      "df_price_10 = df_price[['2004price', '2014price']]\n",
      "df_price_10 = df_price_10[df_price_10['2004price'] > 10000]\n",
      "\n",
      "# df_count_norm = df_count\n",
      "# test = df_count.apply(lambda x: (x - x.mean())/x.std())"
     ],
     "language": "python",
     "metadata": {},
     "outputs": [],
     "prompt_number": 9
    },
    {
     "cell_type": "code",
     "collapsed": false,
     "input": [
      "df_price['2004avg_price'] = df_re['2004price']/df_re['2004count']\n",
      "df_price['2014avg_price'] = df_re['2014price']/df_re['2014count']"
     ],
     "language": "python",
     "metadata": {},
     "outputs": [
      {
       "output_type": "stream",
       "stream": "stderr",
       "text": [
        "-c:1: SettingWithCopyWarning: \n",
        "A value is trying to be set on a copy of a slice from a DataFrame.\n",
        "Try using .loc[row_indexer,col_indexer] = value instead\n",
        "\n",
        "See the the caveats in the documentation: http://pandas.pydata.org/pandas-docs/stable/indexing.html#indexing-view-versus-copy\n",
        "-c:2: SettingWithCopyWarning: \n",
        "A value is trying to be set on a copy of a slice from a DataFrame.\n",
        "Try using .loc[row_indexer,col_indexer] = value instead\n",
        "\n",
        "See the the caveats in the documentation: http://pandas.pydata.org/pandas-docs/stable/indexing.html#indexing-view-versus-copy\n"
       ]
      }
     ],
     "prompt_number": 14
    },
    {
     "cell_type": "code",
     "collapsed": false,
     "input": [
      "df_price_10 = df_price[['2004avg_price', '2014avg_price']]\n",
      "#df_price_10 = df_price_10[df_price_10['2004price'] > 10000]\n",
      "\n",
      "\n",
      "\n",
      "#df_price.head()\n",
      "# test = df_price_10[(df_price_10['2004price'] < df_price_10['2004price'].quantile(.4)) & \\\n",
      "#                         (df_price_10['2014price'] > df_price_10['2014price'].quantile(.66))]\n",
      "\n",
      "\n",
      "\n",
      "# df091011= df_count.dropna().pct_change(axis=1).iloc[:,1:][['2009count', '2010count', '2011count']]"
     ],
     "language": "python",
     "metadata": {},
     "outputs": [],
     "prompt_number": 32
    },
    {
     "cell_type": "code",
     "collapsed": false,
     "input": [
      "#df_price_10 = df_price[['2004avg_price', '2014avg_price']]\n",
      "df_price_10 = df_price_10[(df_price_10['2004avg_price'] > 10000)]\n",
      "df_price_10 = df_price_10[(df_price_10['2014avg_price'] > 10000)]"
     ],
     "language": "python",
     "metadata": {},
     "outputs": [],
     "prompt_number": 37
    },
    {
     "cell_type": "code",
     "collapsed": false,
     "input": [
      "df_price_10_filtered = df_price_10[(df_price_10['2004avg_price'] < df_price_10['2004avg_price'].quantile(.4)) & \\\n",
      "                         (df_price_10['2014avg_price'] > df_price_10['2014avg_price'].quantile(.66))]"
     ],
     "language": "python",
     "metadata": {},
     "outputs": [],
     "prompt_number": 40
    },
    {
     "cell_type": "code",
     "collapsed": false,
     "input": [
      "intersections = list(df_price_10_filtered.index)"
     ],
     "language": "python",
     "metadata": {},
     "outputs": [],
     "prompt_number": 44
    },
    {
     "cell_type": "code",
     "collapsed": false,
     "input": [
      "new_df = df_evening[df_evening.index.isin(intersections)]"
     ],
     "language": "python",
     "metadata": {},
     "outputs": [],
     "prompt_number": 61
    },
    {
     "cell_type": "code",
     "collapsed": false,
     "input": [
      "new_df.head()\n",
      "# new_df.describe(percentiles = [.1, .25, .5, .75,.9, .95])\n",
      "to_map = new_df[[2010.0, 2012.0]][new_df > new_df.quantile(.25)].dropna().pct_change(axis=1)\n"
     ],
     "language": "python",
     "metadata": {},
     "outputs": [],
     "prompt_number": 70
    },
    {
     "cell_type": "code",
     "collapsed": false,
     "input": [
      "to_map = to_map.iloc[:,1:]"
     ],
     "language": "python",
     "metadata": {},
     "outputs": [],
     "prompt_number": 74
    },
    {
     "cell_type": "code",
     "collapsed": false,
     "input": [
      "to_map.to_csv(\"re_filter.csv\")"
     ],
     "language": "python",
     "metadata": {},
     "outputs": [],
     "prompt_number": 76
    },
    {
     "cell_type": "code",
     "collapsed": false,
     "input": [
      "#df_count_norm = df_count_norm.pct_change(axis = 1).iloc[:,1:]"
     ],
     "language": "python",
     "metadata": {},
     "outputs": [],
     "prompt_number": 42
    },
    {
     "cell_type": "code",
     "collapsed": false,
     "input": [
      "#df_count_norm.head()"
     ],
     "language": "python",
     "metadata": {},
     "outputs": [],
     "prompt_number": 60
    },
    {
     "cell_type": "code",
     "collapsed": false,
     "input": [
      "#df_evening.head()"
     ],
     "language": "python",
     "metadata": {},
     "outputs": [],
     "prompt_number": 59
    },
    {
     "cell_type": "code",
     "collapsed": false,
     "input": [
      "#test = df_evening_pct.join(df_count_norm)\n",
      "\n",
      "#test[test[2011.0] > test[2011.0].quantile(.95)]"
     ],
     "language": "python",
     "metadata": {},
     "outputs": [],
     "prompt_number": 64
    },
    {
     "cell_type": "code",
     "collapsed": false,
     "input": [
      "#plt.plot(test[2011.0][(test[2011.0] < test[2011.0].quantile(.99)) & (test[2011.0] > test[2011.0].quantile(.95))], test['2009price'][(test[2011.0] > test[2011.0].quantile(.95)) & (test[2011.0] < test[2011.0].quantile(.99)) ], 'o', markersize = 5)"
     ],
     "language": "python",
     "metadata": {},
     "outputs": [],
     "prompt_number": 58
    },
    {
     "cell_type": "code",
     "collapsed": false,
     "input": [
      "len(test[2011.0][(test[2011.0] < test[2011.0].quantile(.99)) & (test[2011.0] > test[2011.0].quantile(.95))])"
     ],
     "language": "python",
     "metadata": {},
     "outputs": [
      {
       "metadata": {},
       "output_type": "pyout",
       "prompt_number": 71,
       "text": [
        "2417"
       ]
      }
     ],
     "prompt_number": 71
    },
    {
     "cell_type": "code",
     "collapsed": false,
     "input": [],
     "language": "python",
     "metadata": {},
     "outputs": []
    }
   ],
   "metadata": {}
  }
 ]
}