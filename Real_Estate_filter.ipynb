{
 "metadata": {
  "name": "",
  "signature": "sha256:fe6099b088f5d6685c7972695eda8c41c2646011c675451ae39fd71b5f0aa329"
 },
 "nbformat": 3,
 "nbformat_minor": 0,
 "worksheets": [
  {
   "cells": [
    {
     "cell_type": "code",
     "collapsed": false,
     "input": [
      "import pandas as pd \n",
      "import numpy as np \n",
      "pd.set_option('display.mpl_style', 'default')\n",
      "import matplotlib.pylab as plt\n",
      "%matplotlib inline"
     ],
     "language": "python",
     "metadata": {},
     "outputs": [],
     "prompt_number": 1
    },
    {
     "cell_type": "code",
     "collapsed": false,
     "input": [
      "# df_evening = pd.read_csv(\"eveningdropoffschange.csv\")\n",
      "# df_evening.columns = ['intersection', '2011', '2012', '2013']"
     ],
     "language": "python",
     "metadata": {},
     "outputs": [],
     "prompt_number": 30
    },
    {
     "cell_type": "code",
     "collapsed": false,
     "input": [
      "df_evening = pd.read_json(\"EveningDropoffs.json\")\n",
      "df_evening = df_evening.transpose()"
     ],
     "language": "python",
     "metadata": {},
     "outputs": [],
     "prompt_number": 57
    },
    {
     "cell_type": "code",
     "collapsed": false,
     "input": [
      "mean2010 = df_evening[2010.0].mean()\n",
      "mean2011 = df_evening[2011.0].mean()\n",
      "mean2012 = df_evening[2012.0].mean() \n",
      "mean2013 = df_evening[2013.0].mean() \n",
      "\n",
      "std2010 = df_evening[2010.0].std()\n",
      "std2011 = df_evening[2011.0].std()\n",
      "std2012 = df_evening[2012.0].std()\n",
      "std2013 = df_evening[2013.0].std()"
     ],
     "language": "python",
     "metadata": {},
     "outputs": [],
     "prompt_number": 51
    },
    {
     "cell_type": "code",
     "collapsed": false,
     "input": [
      "df_evening[2010.0] = (df_evening[2010.0] - mean2010)/std2010\n",
      "df_evening[2011.0] = (df_evening[2011.0] - mean2011)/std2011\n",
      "df_evening[2012.0] = (df_evening[2012.0] - mean2012)/std2012\n",
      "df_evening[2013.0] = (df_evening[2013.0] - mean2013)/std2013"
     ],
     "language": "python",
     "metadata": {},
     "outputs": [],
     "prompt_number": 52
    },
    {
     "cell_type": "code",
     "collapsed": false,
     "input": [],
     "language": "python",
     "metadata": {},
     "outputs": [],
     "prompt_number": 51
    },
    {
     "cell_type": "code",
     "collapsed": false,
     "input": [],
     "language": "python",
     "metadata": {},
     "outputs": [],
     "prompt_number": 63
    },
    {
     "cell_type": "code",
     "collapsed": false,
     "input": [],
     "language": "python",
     "metadata": {},
     "outputs": [],
     "prompt_number": 64
    },
    {
     "cell_type": "markdown",
     "metadata": {},
     "source": [
      "Real Estate"
     ]
    },
    {
     "cell_type": "code",
     "collapsed": false,
     "input": [
      "df_re = pd.read_json(\"../RealEstate01year.json\")"
     ],
     "language": "python",
     "metadata": {},
     "outputs": [],
     "prompt_number": 5
    },
    {
     "cell_type": "code",
     "collapsed": false,
     "input": [
      "even = [i for i in xrange(0, 24) if i % 2 == 0]\n",
      "odd = [i for i in xrange(0, 24) if i % 2 != 0]"
     ],
     "language": "python",
     "metadata": {},
     "outputs": [],
     "prompt_number": 6
    },
    {
     "cell_type": "code",
     "collapsed": false,
     "input": [
      "df_re = df_re.transpose()"
     ],
     "language": "python",
     "metadata": {},
     "outputs": [],
     "prompt_number": 7
    },
    {
     "cell_type": "code",
     "collapsed": false,
     "input": [
      "df_count = df_re[even]\n",
      "df_price = df_re[odd]"
     ],
     "language": "python",
     "metadata": {},
     "outputs": [],
     "prompt_number": 8
    },
    {
     "cell_type": "code",
     "collapsed": false,
     "input": [
      "df_price_10 = df_price[['2004price', '2014price']]\n",
      "df_price_10 = df_price_10[df_price_10['2004price'] > 10000]\n",
      "\n",
      "# df_count_norm = df_count\n",
      "# test = df_count.apply(lambda x: (x - x.mean())/x.std())"
     ],
     "language": "python",
     "metadata": {},
     "outputs": [],
     "prompt_number": 9
    },
    {
     "cell_type": "code",
     "collapsed": false,
     "input": [
      "df_price['2004avg_price'] = df_re['2004price']/df_re['2004count']\n",
      "df_price['2014avg_price'] = df_re['2014price']/df_re['2014count']"
     ],
     "language": "python",
     "metadata": {},
     "outputs": [
      {
       "output_type": "stream",
       "stream": "stderr",
       "text": [
        "-c:1: SettingWithCopyWarning: \n",
        "A value is trying to be set on a copy of a slice from a DataFrame.\n",
        "Try using .loc[row_indexer,col_indexer] = value instead\n",
        "\n",
        "See the the caveats in the documentation: http://pandas.pydata.org/pandas-docs/stable/indexing.html#indexing-view-versus-copy\n",
        "-c:2: SettingWithCopyWarning: \n",
        "A value is trying to be set on a copy of a slice from a DataFrame.\n",
        "Try using .loc[row_indexer,col_indexer] = value instead\n",
        "\n",
        "See the the caveats in the documentation: http://pandas.pydata.org/pandas-docs/stable/indexing.html#indexing-view-versus-copy\n"
       ]
      }
     ],
     "prompt_number": 14
    },
    {
     "cell_type": "code",
     "collapsed": false,
     "input": [
      "df_price_10 = df_price[['2004avg_price', '2014avg_price']]\n",
      "#df_price_10 = df_price_10[df_price_10['2004price'] > 10000]\n",
      "\n",
      "\n",
      "\n",
      "#df_price.head()\n",
      "# test = df_price_10[(df_price_10['2004price'] < df_price_10['2004price'].quantile(.4)) & \\\n",
      "#                         (df_price_10['2014price'] > df_price_10['2014price'].quantile(.66))]\n",
      "\n",
      "\n",
      "\n",
      "# df091011= df_count.dropna().pct_change(axis=1).iloc[:,1:][['2009count', '2010count', '2011count']]"
     ],
     "language": "python",
     "metadata": {},
     "outputs": [],
     "prompt_number": 32
    },
    {
     "cell_type": "code",
     "collapsed": false,
     "input": [
      "#df_price_10 = df_price[['2004avg_price', '2014avg_price']]\n",
      "df_price_10 = df_price_10[(df_price_10['2004avg_price'] > 10000)]\n",
      "df_price_10 = df_price_10[(df_price_10['2014avg_price'] > 10000)]"
     ],
     "language": "python",
     "metadata": {},
     "outputs": [],
     "prompt_number": 37
    },
    {
     "cell_type": "code",
     "collapsed": false,
     "input": [
      "df_price_10_filtered = df_price_10[(df_price_10['2004avg_price'] < df_price_10['2004avg_price'].quantile(.4)) & \\\n",
      "                         (df_price_10['2014avg_price'] > df_price_10['2014avg_price'].quantile(.66))]"
     ],
     "language": "python",
     "metadata": {},
     "outputs": [],
     "prompt_number": 40
    },
    {
     "cell_type": "code",
     "collapsed": false,
     "input": [
      "intersections = list(df_price_10_filtered.index)"
     ],
     "language": "python",
     "metadata": {},
     "outputs": [],
     "prompt_number": 125
    },
    {
     "cell_type": "code",
     "collapsed": false,
     "input": [
      "new_df = df_evening[df_evening.index.isin(intersections)]"
     ],
     "language": "python",
     "metadata": {},
     "outputs": [],
     "prompt_number": 61
    },
    {
     "cell_type": "code",
     "collapsed": false,
     "input": [
      "new_df.head()\n",
      "# new_df.describe(percentiles = [.1, .25, .5, .75,.9, .95])\n",
      "to_map = new_df[[2010.0, 2012.0]][new_df > new_df.quantile(.25)].dropna().pct_change(axis=1)\n"
     ],
     "language": "python",
     "metadata": {},
     "outputs": [],
     "prompt_number": 70
    },
    {
     "cell_type": "code",
     "collapsed": false,
     "input": [
      "to_map = to_map.iloc[:,1:]"
     ],
     "language": "python",
     "metadata": {},
     "outputs": [],
     "prompt_number": 74
    },
    {
     "cell_type": "code",
     "collapsed": false,
     "input": [
      "to_map.to_csv(\"re_filter.csv\")"
     ],
     "language": "python",
     "metadata": {},
     "outputs": [],
     "prompt_number": 76
    },
    {
     "cell_type": "code",
     "collapsed": false,
     "input": [
      "    "
     ],
     "language": "python",
     "metadata": {},
     "outputs": [],
     "prompt_number": 42
    },
    {
     "cell_type": "code",
     "collapsed": false,
     "input": [
      "to_map.head()    "
     ],
     "language": "python",
     "metadata": {},
     "outputs": [
      {
       "html": [
        "<div style=\"max-height:1000px;max-width:1500px;overflow:auto;\">\n",
        "<table border=\"1\" class=\"dataframe\">\n",
        "  <thead>\n",
        "    <tr style=\"text-align: right;\">\n",
        "      <th></th>\n",
        "      <th>2012.0</th>\n",
        "    </tr>\n",
        "  </thead>\n",
        "  <tbody>\n",
        "    <tr>\n",
        "      <th>10</th>\n",
        "      <td>0.000000</td>\n",
        "    </tr>\n",
        "    <tr>\n",
        "      <th>10007</th>\n",
        "      <td>0.970588</td>\n",
        "    </tr>\n",
        "    <tr>\n",
        "      <th>10021</th>\n",
        "      <td>0.453846</td>\n",
        "    </tr>\n",
        "    <tr>\n",
        "      <th>10036</th>\n",
        "      <td>-0.181818</td>\n",
        "    </tr>\n",
        "    <tr>\n",
        "      <th>10052</th>\n",
        "      <td>0.414634</td>\n",
        "    </tr>\n",
        "  </tbody>\n",
        "</table>\n",
        "</div>"
       ],
       "metadata": {},
       "output_type": "pyout",
       "prompt_number": 77,
       "text": [
        "           2012\n",
        "10     0.000000\n",
        "10007  0.970588\n",
        "10021  0.453846\n",
        "10036 -0.181818\n",
        "10052  0.414634"
       ]
      }
     ],
     "prompt_number": 77
    },
    {
     "cell_type": "code",
     "collapsed": false,
     "input": [
      "# intersections = pd.read_csv('intersections.csv', header = None)"
     ],
     "language": "python",
     "metadata": {},
     "outputs": [],
     "prompt_number": 78
    },
    {
     "cell_type": "code",
     "collapsed": false,
     "input": [
      "intersections['int_id'] = intersections.index"
     ],
     "language": "python",
     "metadata": {},
     "outputs": [],
     "prompt_number": 80
    },
    {
     "cell_type": "code",
     "collapsed": false,
     "input": [
      "to_map['int_id'] = to_map.index"
     ],
     "language": "python",
     "metadata": {},
     "outputs": [],
     "prompt_number": 81
    },
    {
     "cell_type": "code",
     "collapsed": false,
     "input": [
      "to_map_int = pd.merge(to_map, intersections, on = 'int_id')"
     ],
     "language": "python",
     "metadata": {},
     "outputs": [],
     "prompt_number": 82
    },
    {
     "cell_type": "code",
     "collapsed": false,
     "input": [
      "to_map_int.to_csv(\"real_estate_intersections_latlng.csv\")"
     ],
     "language": "python",
     "metadata": {},
     "outputs": [],
     "prompt_number": 87
    },
    {
     "cell_type": "code",
     "collapsed": false,
     "input": [
      "df_evening_sample = df_evening[[2010.0, 2012.0]]"
     ],
     "language": "python",
     "metadata": {},
     "outputs": [],
     "prompt_number": 90
    },
    {
     "cell_type": "code",
     "collapsed": false,
     "input": [
      "test = df_evening_sample.pct_change(axis=1)"
     ],
     "language": "python",
     "metadata": {},
     "outputs": [],
     "prompt_number": 92
    },
    {
     "cell_type": "code",
     "collapsed": false,
     "input": [
      "test['int'] = test.index"
     ],
     "language": "python",
     "metadata": {},
     "outputs": [],
     "prompt_number": 94
    },
    {
     "cell_type": "code",
     "collapsed": false,
     "input": [],
     "language": "python",
     "metadata": {},
     "outputs": [],
     "prompt_number": 119
    },
    {
     "cell_type": "code",
     "collapsed": false,
     "input": [],
     "language": "python",
     "metadata": {},
     "outputs": [],
     "prompt_number": 132
    },
    {
     "cell_type": "code",
     "collapsed": false,
     "input": [
      "re_test = df_price_10_filtered.pct_change(axis=1)"
     ],
     "language": "python",
     "metadata": {},
     "outputs": [],
     "prompt_number": 108
    },
    {
     "cell_type": "code",
     "collapsed": false,
     "input": [
      "re_test = re_test.iloc[:,1:]"
     ],
     "language": "python",
     "metadata": {},
     "outputs": [],
     "prompt_number": 111
    },
    {
     "cell_type": "code",
     "collapsed": false,
     "input": [
      "re_test['int'] = re_test.index"
     ],
     "language": "python",
     "metadata": {},
     "outputs": [],
     "prompt_number": 113
    },
    {
     "cell_type": "code",
     "collapsed": false,
     "input": [
      "re_test.head()"
     ],
     "language": "python",
     "metadata": {},
     "outputs": [
      {
       "html": [
        "<div style=\"max-height:1000px;max-width:1500px;overflow:auto;\">\n",
        "<table border=\"1\" class=\"dataframe\">\n",
        "  <thead>\n",
        "    <tr style=\"text-align: right;\">\n",
        "      <th></th>\n",
        "      <th>2014avg_price</th>\n",
        "      <th>int</th>\n",
        "    </tr>\n",
        "  </thead>\n",
        "  <tbody>\n",
        "    <tr>\n",
        "      <th>10</th>\n",
        "      <td>5.270939</td>\n",
        "      <td>10</td>\n",
        "    </tr>\n",
        "    <tr>\n",
        "      <th>10007</th>\n",
        "      <td>7.130738</td>\n",
        "      <td>10007</td>\n",
        "    </tr>\n",
        "    <tr>\n",
        "      <th>10021</th>\n",
        "      <td>8.184887</td>\n",
        "      <td>10021</td>\n",
        "    </tr>\n",
        "    <tr>\n",
        "      <th>10036</th>\n",
        "      <td>5.122254</td>\n",
        "      <td>10036</td>\n",
        "    </tr>\n",
        "    <tr>\n",
        "      <th>10052</th>\n",
        "      <td>20.949412</td>\n",
        "      <td>10052</td>\n",
        "    </tr>\n",
        "  </tbody>\n",
        "</table>\n",
        "</div>"
       ],
       "metadata": {},
       "output_type": "pyout",
       "prompt_number": 114,
       "text": [
        "       2014avg_price    int\n",
        "10          5.270939     10\n",
        "10007       7.130738  10007\n",
        "10021       8.184887  10021\n",
        "10036       5.122254  10036\n",
        "10052      20.949412  10052"
       ]
      }
     ],
     "prompt_number": 114
    },
    {
     "cell_type": "code",
     "collapsed": false,
     "input": [
      "test.head()"
     ],
     "language": "python",
     "metadata": {},
     "outputs": [
      {
       "html": [
        "<div style=\"max-height:1000px;max-width:1500px;overflow:auto;\">\n",
        "<table border=\"1\" class=\"dataframe\">\n",
        "  <thead>\n",
        "    <tr style=\"text-align: right;\">\n",
        "      <th></th>\n",
        "      <th>2012.0</th>\n",
        "      <th>int</th>\n",
        "    </tr>\n",
        "  </thead>\n",
        "  <tbody>\n",
        "    <tr>\n",
        "      <th>0</th>\n",
        "      <td>0.375000</td>\n",
        "      <td>0</td>\n",
        "    </tr>\n",
        "    <tr>\n",
        "      <th>1</th>\n",
        "      <td>0.373451</td>\n",
        "      <td>1</td>\n",
        "    </tr>\n",
        "    <tr>\n",
        "      <th>10</th>\n",
        "      <td>0.000000</td>\n",
        "      <td>10</td>\n",
        "    </tr>\n",
        "    <tr>\n",
        "      <th>100</th>\n",
        "      <td>-0.500000</td>\n",
        "      <td>100</td>\n",
        "    </tr>\n",
        "    <tr>\n",
        "      <th>1000</th>\n",
        "      <td>-0.428571</td>\n",
        "      <td>1000</td>\n",
        "    </tr>\n",
        "  </tbody>\n",
        "</table>\n",
        "</div>"
       ],
       "metadata": {},
       "output_type": "pyout",
       "prompt_number": 115,
       "text": [
        "        2012.0   int\n",
        "0     0.375000     0\n",
        "1     0.373451     1\n",
        "10    0.000000    10\n",
        "100  -0.500000   100\n",
        "1000 -0.428571  1000"
       ]
      }
     ],
     "prompt_number": 115
    },
    {
     "cell_type": "code",
     "collapsed": false,
     "input": [
      "test2 = pd.merge(re_test, test, on = 'int')"
     ],
     "language": "python",
     "metadata": {},
     "outputs": [],
     "prompt_number": 116
    },
    {
     "cell_type": "code",
     "collapsed": false,
     "input": [
      "intsinboth = pd.read_csv(\"intsinboth.csv\")\n",
      "intsinboth_list = list(intsinboth['int_id'])"
     ],
     "language": "python",
     "metadata": {},
     "outputs": [],
     "prompt_number": 138
    },
    {
     "cell_type": "code",
     "collapsed": false,
     "input": [
      "test2 = test2[test2['int'].isin(intsinboth_list)]"
     ],
     "language": "python",
     "metadata": {},
     "outputs": [],
     "prompt_number": 140
    },
    {
     "cell_type": "code",
     "collapsed": false,
     "input": [],
     "language": "python",
     "metadata": {},
     "outputs": [
      {
       "metadata": {},
       "output_type": "pyout",
       "prompt_number": 142,
       "text": [
        "261"
       ]
      }
     ],
     "prompt_number": 142
    },
    {
     "cell_type": "code",
     "collapsed": false,
     "input": [
      "plt.plot(test2['2014avg_price'], test2[2012.0], 'o', markersize = 5)\n",
      "plt.xlim(0,10)"
     ],
     "language": "python",
     "metadata": {},
     "outputs": [
      {
       "metadata": {},
       "output_type": "pyout",
       "prompt_number": 149,
       "text": [
        "(0, 10)"
       ]
      },
      {
       "metadata": {},
       "output_type": "display_data",
       "png": "[encoded data removed]",
       "text": [
        "<matplotlib.figure.Figure at 0x11dbc8710>"
       ]
      }
     ],
     "prompt_number": 149
    },
    {
     "cell_type": "code",
     "collapsed": false,
     "input": [
      "with_int=pd.read_csv('deltaswithintnorm20102012.csv')\n"
     ],
     "language": "python",
     "metadata": {},
     "outputs": [],
     "prompt_number": 150
    },
    {
     "cell_type": "code",
     "collapsed": false,
     "input": [
      "with_int.head()"
     ],
     "language": "python",
     "metadata": {},
     "outputs": [
      {
       "html": [
        "<div style=\"max-height:1000px;max-width:1500px;overflow:auto;\">\n",
        "<table border=\"1\" class=\"dataframe\">\n",
        "  <thead>\n",
        "    <tr style=\"text-align: right;\">\n",
        "      <th></th>\n",
        "      <th>Unnamed: 0</th>\n",
        "      <th>2012.0</th>\n",
        "      <th>int_id</th>\n",
        "      <th>0</th>\n",
        "      <th>1</th>\n",
        "    </tr>\n",
        "  </thead>\n",
        "  <tbody>\n",
        "    <tr>\n",
        "      <th>0</th>\n",
        "      <td>0</td>\n",
        "      <td>1.148569</td>\n",
        "      <td>10006</td>\n",
        "      <td>40.76776</td>\n",
        "      <td>-73.99326</td>\n",
        "    </tr>\n",
        "    <tr>\n",
        "      <th>1</th>\n",
        "      <td>1</td>\n",
        "      <td>0.364316</td>\n",
        "      <td>10009</td>\n",
        "      <td>40.82145</td>\n",
        "      <td>-73.95038</td>\n",
        "    </tr>\n",
        "    <tr>\n",
        "      <th>2</th>\n",
        "      <td>2</td>\n",
        "      <td>0.627035</td>\n",
        "      <td>10025</td>\n",
        "      <td>40.71165</td>\n",
        "      <td>-73.96723</td>\n",
        "    </tr>\n",
        "    <tr>\n",
        "      <th>3</th>\n",
        "      <td>3</td>\n",
        "      <td>0.639122</td>\n",
        "      <td>10029</td>\n",
        "      <td>40.84888</td>\n",
        "      <td>-73.93916</td>\n",
        "    </tr>\n",
        "    <tr>\n",
        "      <th>4</th>\n",
        "      <td>4</td>\n",
        "      <td>0.673357</td>\n",
        "      <td>1004</td>\n",
        "      <td>40.80130</td>\n",
        "      <td>-73.95011</td>\n",
        "    </tr>\n",
        "  </tbody>\n",
        "</table>\n",
        "</div>"
       ],
       "metadata": {},
       "output_type": "pyout",
       "prompt_number": 151,
       "text": [
        "   Unnamed: 0    2012.0  int_id         0         1\n",
        "0           0  1.148569   10006  40.76776 -73.99326\n",
        "1           1  0.364316   10009  40.82145 -73.95038\n",
        "2           2  0.627035   10025  40.71165 -73.96723\n",
        "3           3  0.639122   10029  40.84888 -73.93916\n",
        "4           4  0.673357    1004  40.80130 -73.95011"
       ]
      }
     ],
     "prompt_number": 151
    },
    {
     "cell_type": "code",
     "collapsed": false,
     "input": [
      "intsinboth_list = list(with_int['int_id'])"
     ],
     "language": "python",
     "metadata": {},
     "outputs": [],
     "prompt_number": 152
    },
    {
     "cell_type": "code",
     "collapsed": false,
     "input": [
      "test2 = test2[test2['int'].isin(intsinboth_list)]"
     ],
     "language": "python",
     "metadata": {},
     "outputs": [],
     "prompt_number": 153
    },
    {
     "cell_type": "code",
     "collapsed": false,
     "input": [
      "test2.head()"
     ],
     "language": "python",
     "metadata": {},
     "outputs": [
      {
       "html": [
        "<div style=\"max-height:1000px;max-width:1500px;overflow:auto;\">\n",
        "<table border=\"1\" class=\"dataframe\">\n",
        "  <thead>\n",
        "    <tr style=\"text-align: right;\">\n",
        "      <th></th>\n",
        "      <th>2014avg_price</th>\n",
        "      <th>int</th>\n",
        "      <th>2012.0</th>\n",
        "    </tr>\n",
        "  </thead>\n",
        "  <tbody>\n",
        "    <tr>\n",
        "      <th>7</th>\n",
        "      <td>3.076393</td>\n",
        "      <td>10139</td>\n",
        "      <td>0.531625</td>\n",
        "    </tr>\n",
        "    <tr>\n",
        "      <th>47</th>\n",
        "      <td>7.378001</td>\n",
        "      <td>1051</td>\n",
        "      <td>0.268080</td>\n",
        "    </tr>\n",
        "    <tr>\n",
        "      <th>50</th>\n",
        "      <td>40.093750</td>\n",
        "      <td>10550</td>\n",
        "      <td>-0.028965</td>\n",
        "    </tr>\n",
        "    <tr>\n",
        "      <th>61</th>\n",
        "      <td>8.891414</td>\n",
        "      <td>10668</td>\n",
        "      <td>-0.208270</td>\n",
        "    </tr>\n",
        "    <tr>\n",
        "      <th>68</th>\n",
        "      <td>3.310042</td>\n",
        "      <td>10729</td>\n",
        "      <td>0.423529</td>\n",
        "    </tr>\n",
        "  </tbody>\n",
        "</table>\n",
        "</div>"
       ],
       "metadata": {},
       "output_type": "pyout",
       "prompt_number": 154,
       "text": [
        "    2014avg_price    int    2012.0\n",
        "7        3.076393  10139  0.531625\n",
        "47       7.378001   1051  0.268080\n",
        "50      40.093750  10550 -0.028965\n",
        "61       8.891414  10668 -0.208270\n",
        "68       3.310042  10729  0.423529"
       ]
      }
     ],
     "prompt_number": 154
    },
    {
     "cell_type": "code",
     "collapsed": false,
     "input": [
      "test2=test2.drop(2012.0, axis = 1)"
     ],
     "language": "python",
     "metadata": {},
     "outputs": [],
     "prompt_number": 155
    },
    {
     "cell_type": "code",
     "collapsed": false,
     "input": [
      "test3 = pd.merge(test2, with_int, left_on = 'int', right_on = 'int_id')"
     ],
     "language": "python",
     "metadata": {},
     "outputs": [],
     "prompt_number": 158
    },
    {
     "cell_type": "code",
     "collapsed": false,
     "input": [
      "test3.columns"
     ],
     "language": "python",
     "metadata": {},
     "outputs": [
      {
       "metadata": {},
       "output_type": "pyout",
       "prompt_number": 161,
       "text": [
        "Index([u'2014avg_price', u'int', u'Unnamed: 0', u'2012.0', u'int_id', u'0', u'1'], dtype='object')"
       ]
      }
     ],
     "prompt_number": 161
    },
    {
     "cell_type": "code",
     "collapsed": false,
     "input": [
      "plt.plot(np.log(test3['2014avg_price']), np.log(test3['2012.0']), 'o', markersize = 5)"
     ],
     "language": "python",
     "metadata": {},
     "outputs": [
      {
       "metadata": {},
       "output_type": "pyout",
       "prompt_number": 166,
       "text": [
        "[<matplotlib.lines.Line2D at 0x114d471d0>]"
       ]
      },
      {
       "metadata": {},
       "output_type": "display_data",
       "png": "[encoded data removed]",
       "text": [
        "<matplotlib.figure.Figure at 0x11db7ef50>"
       ]
      }
     ],
     "prompt_number": 166
    },
    {
     "cell_type": "code",
     "collapsed": false,
     "input": [],
     "language": "python",
     "metadata": {},
     "outputs": []
    }
   ],
   "metadata": {}
  }
 ]
}